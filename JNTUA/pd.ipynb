{
 "cells": [
  {
   "cell_type": "code",
   "execution_count": null,
   "metadata": {},
   "outputs": [],
   "source": [
    "import pandas as pd"
   ]
  },
  {
   "cell_type": "code",
   "execution_count": null,
   "metadata": {},
   "outputs": [],
   "source": [
    "data=pd.read_csv('sales_data.csv')"
   ]
  },
  {
   "cell_type": "code",
   "execution_count": null,
   "metadata": {},
   "outputs": [],
   "source": [
    "my_dataframe = pd.DataFrame({\n",
    "\"Year\": [2018, 2019, 2020, 2021],\n",
    "\"Sales\": [1000, 1500,None, 2500]\n",
    "})"
   ]
  },
  {
   "cell_type": "code",
   "execution_count": null,
   "metadata": {},
   "outputs": [],
   "source": [
    "print(my_dataframe)"
   ]
  },
  {
   "cell_type": "code",
   "execution_count": null,
   "metadata": {},
   "outputs": [],
   "source": [
    "print(my_dataframe.isnull().sum())"
   ]
  },
  {
   "cell_type": "code",
   "execution_count": null,
   "metadata": {},
   "outputs": [],
   "source": [
    "mean=sum(my_dataframe[\"Sales\"])/len(my_dataframe[(\"Sales\")])\n",
    "print(mean)\n",
    "mean=my_dataframe[\"Sales\"].mean()\n",
    "my_dataframe.fillna(mean,inplace=True)\n",
    "print(my_dataframe)"
   ]
  },
  {
   "cell_type": "code",
   "execution_count": null,
   "metadata": {},
   "outputs": [],
   "source": [
    "print(my_dataframe.groupby(\"Year\")[\"Sales\"].sum())"
   ]
  },
  {
   "cell_type": "code",
   "execution_count": null,
   "metadata": {},
   "outputs": [],
   "source": [
    "my_dataframe.to_csv(\"Sales.csv\",index=False)"
   ]
  },
  {
   "cell_type": "code",
   "execution_count": null,
   "metadata": {},
   "outputs": [],
   "source": [
    "df=pd.read_csv(\"Sales.csv\")\n",
    "print(df)"
   ]
  },
  {
   "cell_type": "code",
   "execution_count": null,
   "metadata": {},
   "outputs": [],
   "source": [
    "data = {\n",
    "    \"CustomerID\": [101, 102, 103, 104, 105, 106, 107, 108, 109, 110],\n",
    "    \"Product\": [\"Spices\", \"Silk Fabric\", \"Pottery\", \"Gold Rings\", \"Spices\", \"Pottery\", \"Magic Lamp\", \"Silk Fabric\", \"Spices\", \"Gold Rings\"],\n",
    "    \"Quantity\": [5, 2, 1, 1, 3, 2, 1, 4, 6, 2],\n",
    "    \"Price\": [12.50, 25.00, 30.00, 500.00, 12.50, 30.00, 1000.00, 25.00, 12.50, 500.00],\n",
    "    \"PurchaseDate\": [\"2023-10-26\", \"2023-10-26\", \"2023-10-27\", \"2023-10-27\", \"2023-10-28\", \"2023-10-28\", \"2023-10-29\", \"2023-10-29\", \"2023-10-30\", \"2023-10-30\"],\n",
    "    \"Rating\": [4, 5, 3, 5, 4, 4, None, 5, 3, 5],\n",
    "    \"Location\": [\"Aisle 1\", \"Aisle 2\", \"Aisle 3\", \"Luxury\", \"Aisle 1\", \"Aisle 3\", \"Luxury\", \"Aisle 2\", \"Aisle 1\", \"Luxury\"]\n",
    "}\n",
    "\n",
    "df=pd.DataFrame(data)"
   ]
  },
  {
   "cell_type": "code",
   "execution_count": null,
   "metadata": {},
   "outputs": [],
   "source": [
    "# 1.  What are the dimensions of bazaar_df?\n",
    "print(\"Shape: \",df.shape)\n",
    "# 2.  What are the column data types?\n",
    "print(\" 2.  What are the column data types\")\n",
    "print(\"df.dtype\",df.dtypes)\n",
    "# 3.  What's the average product price?\n",
    "print(\"3.  What's the average product price?\")\n",
    "print(\"Mean:\",df['Price'].mean())\n",
    "# 4.  Show CustomerID 104's purchase details.\n",
    "print(\"4.  Show CustomerID 104's purchase details.\")\n",
    "print(df[df['CustomerID'] == 104])\n",
    "# 5.  List purchases > 200 price.\n",
    "print(\"5.  List purchases > 200 price.\")\n",
    "print(df.loc[df[\"Price\"]>200])\n",
    "# 6.  Missing \"Rating\" values?\n",
    "print(\"6.Missing Rating values\")\n",
    "print(df['Rating'].isnull().sum())\n",
    "# 7.  New average \"Rating\" after filling?\n",
    "print(\"7 . New Average Rating after filling?\")\n",
    "avg_rate=df[\"Rating\"].mean()\n",
    "df['Rating'].fillna(avg_rate,inplace=True)\n",
    "print(\"_New_Rating_Mean:\",df['Rating'].mean())\n",
    "# 8.  Product with highest total quantity?\n",
    "print(\"8 . Product with highest total quantity?\")\n",
    "print(df.groupby('Product')[\"Quantity\"].sum().idxmax())\n",
    "# 9.  First 3 rows sorted by \"PurchaseDate\"?\n",
    "print(\"9 . First 3 rows sorted by PurchaseDate?\")\n",
    "print(df.sort_values('PurchaseDate').head(3))"
   ]
  },
  {
   "cell_type": "code",
   "execution_count": null,
   "metadata": {},
   "outputs": [],
   "source": [
    "import pandas as pd\n",
    "import numpy as np\n",
    "\n",
    "data = {\n",
    "    \"ProductID\": [101, 102, 103, 104, 101, 103, 105, 102, 101, 104],\n",
    "    \"Product\": [\"Spices\", \"Silk Fabric\", \"Pottery\", \"Gold Rings\", \"Spices\", \"Pottery\", \"Magic Lamp\", \"Silk Fabric\", \"Spices\", \"Gold Rings\"],\n",
    "    \"Month\": [\"Jan\", \"Jan\", \"Feb\", \"Feb\", \"Mar\", \"Mar\", \"Apr\", \"Apr\", \"May\", \"May\"],\n",
    "    \"Sales\": [150, 80, 120, 50, 200, 180, 30, 100, 250, 60],\n",
    "    \"Price\": [12.50, 25.00, 30.00, 500.00, 12.50, 30.00, 1000.00, 25.00, 12.50, 500.00],\n",
    "    \"Stock\": [300, 150, 250, 80, 350, 280, 50, 180, 400, 100]\n",
    "}\n",
    "\n",
    "bazaar_sales_df = pd.DataFrame(data)"
   ]
  },
  {
   "cell_type": "code",
   "execution_count": null,
   "metadata": {},
   "outputs": [],
   "source": [
    "import seaborn as sns\n",
    "sns.set(style=\"ticks\")\n",
    "\n",
    "df = sns.load_dataset(\"iris\")\n",
    "sns.pairplot(df, hue=\"species\")"
   ]
  },
  {
   "cell_type": "markdown",
   "metadata": {},
   "source": [
    "# 📊 Matplotlib Plot Types\n",
    "\n",
    "| **Plot Name**   | **When to Use**                          | **How to Use**                  | **About**                         |\n",
    "|---------------|--------------------------------------|--------------------------------|----------------------------------|\n",
    "| **Line Plot**  | Trend analysis over time           | `plt.plot(x, y)`               | Shows data trends               |\n",
    "| **Scatter Plot** | Relationship between two variables | `plt.scatter(x, y)`            | Detects correlations             |\n",
    "| **Bar Plot**   | Comparing categories               | `plt.bar(x, y)`                | Displays categorical data        |\n",
    "| **Histogram**  | Data distribution                  | `plt.hist(data, bins=n)`       | Groups data into bins            |\n",
    "| **Box Plot**   | Identify outliers & distribution   | `plt.boxplot(data)`            | Shows quartiles & outliers       |\n",
    "| **Pie Chart**  | Proportions of a whole             | `plt.pie(data, labels)`        | Part-to-whole relationships      |\n",
    "| **Heatmap**    | Correlation matrices               | `plt.imshow(data, cmap='hot')` | Shows intensity variations       |\n",
    "| **Step Plot**  | Stepwise changes                   | `plt.step(x, y)`               | Useful for survival analysis     |\n",
    "| **Stacked Bar**| Compare multiple categories        | `plt.bar(x, y, bottom=prev_y)` | Stacked categories               |\n",
    "| **Polar Plot** | Cyclic data representation         | `ax = plt.subplot(projection='polar')` | Compass, wind data |\n",
    "\n",
    "---\n",
    "\n",
    "# 📈 Seaborn Plot Types\n",
    "\n",
    "| **Plot Name**  | **When to Use**                          | **How to Use**                  | **About**                         |\n",
    "|---------------|--------------------------------------|--------------------------------|----------------------------------|\n",
    "| **Line Plot**  | Trend analysis over time           | `sns.lineplot(x, y)`           | Tracks changes over time        |\n",
    "| **Scatter Plot** | Relationship between two variables | `sns.scatterplot(x, y)`        | Detects patterns & clusters     |\n",
    "| **Bar Plot**   | Comparing categories               | `sns.barplot(x, y)`            | Shows mean & confidence intervals |\n",
    "| **Histogram**  | Data distribution                  | `sns.histplot(data)`           | Similar to Matplotlib hist      |\n",
    "| **Box Plot**   | Outliers & distribution           | `sns.boxplot(x, y)`            | Shows median & quartiles        |\n",
    "| **Violin Plot** | Detailed distribution            | `sns.violinplot(x, y)`         | KDE + box plot                  |\n",
    "| **Pair Plot**  | Relationship between multiple vars | `sns.pairplot(df)`             | Multiple scatter plots          |\n",
    "| **Reg Plot**   | Linear regression                 | `sns.regplot(x, y)`            | Fits regression line            |\n",
    "| **Heatmap**    | Correlation matrix                | `sns.heatmap(data, annot=True)` | Visualizes relationships        |\n",
    "| **Count Plot** | Categorical frequency count       | `sns.countplot(x)`             | Bar plot for categorical count  |\n"
   ]
  },
  {
   "cell_type": "code",
   "execution_count": null,
   "metadata": {},
   "outputs": [],
   "source": [
    "import matplotlib.pyplot as plt\n",
    "\n",
    "categories = ['A', 'B', 'C', 'D']\n",
    "values = [3, 7, 1, 8]\n",
    "\n",
    "plt.plot(categories, values, color='b',marker='o', linestyle='-')\n",
    "plt.xlabel(\"Categories\")\n",
    "plt.ylabel(\"Values\")\n",
    "plt.title(\"Bar Chart Example\")\n",
    "plt.show()\n"
   ]
  },
  {
   "cell_type": "code",
   "execution_count": null,
   "metadata": {},
   "outputs": [],
   "source": [
    "import matplotlib.pyplot as plt\n",
    "\n",
    "categories = ['A', 'B', 'C', 'D']\n",
    "values = [3, 7, 1, 8]\n",
    "\n",
    "plt.scatter(categories, values, color='b',marker='o')\n",
    "plt.xlabel(\"Categories\")\n",
    "plt.ylabel(\"Values\")\n",
    "plt.title(\"Scatter Chart Example\")\n",
    "plt.show()\n"
   ]
  },
  {
   "cell_type": "code",
   "execution_count": null,
   "metadata": {},
   "outputs": [],
   "source": [
    "import matplotlib.pyplot as plt\n",
    "\n",
    "categories = ['A', 'B', 'C', 'D']\n",
    "values = [3, 7, 1, 8]\n",
    "\n",
    "plt.bar(categories, values, color='r')\n",
    "plt.xlabel(\"Categories\")\n",
    "plt.ylabel(\"Values\")\n",
    "plt.title(\"Bar Chart Example\")\n",
    "plt.show()\n"
   ]
  },
  {
   "cell_type": "code",
   "execution_count": null,
   "metadata": {},
   "outputs": [],
   "source": [
    "import matplotlib.pyplot as plt\n",
    "import numpy as np\n",
    "\n",
    "data=np.random.randn(1000)\n",
    "\n",
    "plt.hist(data, bins=20,color='g',edgecolor='black')\n",
    "\n",
    "plt.xlabel(\"Categories\")\n",
    "plt.ylabel(\"Values\")\n",
    "plt.title(\"Histogram Chart Example\")\n",
    "plt.show()\n"
   ]
  },
  {
   "cell_type": "code",
   "execution_count": null,
   "metadata": {},
   "outputs": [],
   "source": [
    "import matplotlib.pyplot as plt\n",
    "import numpy as np\n",
    "\n",
    "data=np.random.randn(50)\n",
    "\n",
    "plt.boxplot(data)\n",
    "plt.xlabel(\"Dataset\")\n",
    "plt.ylabel(\"values\")\n",
    "plt.title(\"Box Plot\")\n",
    "plt.show()"
   ]
  },
  {
   "cell_type": "code",
   "execution_count": null,
   "metadata": {},
   "outputs": [],
   "source": [
    "import matplotlib.pyplot as plt\n",
    "\n",
    "categories = ['A', 'B', 'C', 'D']\n",
    "sizes = [300, 700, 100, 800]\n",
    "\n",
    "plt.pie(sizes,labels=categories,autopct='%1.1f%%',colors=['red', 'green', 'blue','orange'])\n",
    "plt.title(\"Pie Chart Example\")\n",
    "plt.show()\n"
   ]
  },
  {
   "cell_type": "code",
   "execution_count": null,
   "metadata": {},
   "outputs": [],
   "source": [
    "import seaborn as sns\n",
    "import numpy as np\n",
    "import matplotlib.pyplot as plt\n",
    "\n",
    "data=np.random.rand(5,5)\n",
    "\n",
    "sns.heatmap(data, annot=True,cmap=\"coolwarm\")\n",
    "plt.show()"
   ]
  },
  {
   "cell_type": "code",
   "execution_count": null,
   "metadata": {},
   "outputs": [],
   "source": [
    "import seaborn as sns\n",
    "import matplotlib.pyplot as plt\n",
    "\n",
    "iris=sns.load_dataset(\"iris\")\n",
    "\n",
    "sns.pairplot(iris,hue=\"species\")\n",
    "\n",
    "plt.show()"
   ]
  },
  {
   "cell_type": "code",
   "execution_count": null,
   "metadata": {},
   "outputs": [],
   "source": [
    "import pandas as pd\n",
    "import numpy as np\n",
    "import matplotlib.pyplot as plt\n",
    "import seaborn as sns\n",
    "\n",
    "data = {\n",
    "    \"StudentID\": np.arange(101, 151),\n",
    "    \"Math\": np.random.randint(50, 100, 50),\n",
    "    \"Science\": np.random.randint(60, 100, 50),\n",
    "    \"English\": np.random.randint(55, 100, 50),\n",
    "    \"History\": np.random.randint(50, 95, 50),\n",
    "    \"Attendance\": np.random.uniform(80, 100, 50),\n",
    "    \"Class\": np.random.choice([\"A\", \"B\", \"C\"], 50)\n",
    "}\n",
    "\n",
    "student_marks_df = pd.DataFrame(data)\n"
   ]
  },
  {
   "cell_type": "code",
   "execution_count": null,
   "metadata": {},
   "outputs": [],
   "source": [
    "print(student_marks_df)"
   ]
  },
  {
   "cell_type": "code",
   "execution_count": null,
   "metadata": {},
   "outputs": [],
   "source": [
    "sub_avg=student_marks_df[[\"Math\",\"Science\",\"English\",\"History\"]].mean()\n",
    "student_marks_df[\"Total Average\"]=student_marks_df[[\"Math\",\"Science\",\"English\",\"History\"]].mean(axis=1)"
   ]
  },
  {
   "cell_type": "code",
   "execution_count": null,
   "metadata": {},
   "outputs": [],
   "source": [
    "student_marks_df.head(5)"
   ]
  },
  {
   "cell_type": "code",
   "execution_count": null,
   "metadata": {},
   "outputs": [],
   "source": [
    "plt.figure(1)\n",
    "plt.hist(student_marks_df[\"Math\"])\n",
    "plt.title(\"student_marks_math\")\n",
    "plt.show()"
   ]
  },
  {
   "cell_type": "code",
   "execution_count": null,
   "metadata": {},
   "outputs": [],
   "source": [
    "plt.figure(2)\n",
    "plt.scatter(student_marks_df[\"Science\"],student_marks_df[\"English\"])\n",
    "plt.title(\"Science Vs English\") \n",
    "plt.show()"
   ]
  },
  {
   "cell_type": "code",
   "execution_count": null,
   "metadata": {},
   "outputs": [],
   "source": [
    "plt.figure(3)\n",
    "sns.boxplot(data=student_marks_df[[\"Science\", \"English\",\"Math\",\"History\"]])\n",
    "plt.title(\"Boxplot\")\n",
    "plt.show()"
   ]
  },
  {
   "cell_type": "code",
   "execution_count": null,
   "metadata": {},
   "outputs": [],
   "source": [
    "plt.figure(4)\n",
    "sns.barplot(x=\"Class\",y=\"Total Average\",data=student_marks_df)\n",
    "plt.title(\"barplot\")\n",
    "plt.show()"
   ]
  },
  {
   "cell_type": "code",
   "execution_count": null,
   "metadata": {},
   "outputs": [],
   "source": [
    "plt.figure(5)\n",
    "sns.heatmap(student_marks_df[[\"Science\", \"English\",\"Math\",\"History\"]].corr(),annot=True)\n",
    "plt.title(\"Heatamap\")\n",
    "plt.show()"
   ]
  },
  {
   "cell_type": "code",
   "execution_count": null,
   "metadata": {},
   "outputs": [],
   "source": [
    "plt.figure(6)\n",
    "sns.displot(data=student_marks_df[\"Attendance\"])\n",
    "plt.title(\"Displot\")\n",
    "plt.show()"
   ]
  }
 ],
 "metadata": {
  "kernelspec": {
   "display_name": "Python 3",
   "language": "python",
   "name": "python3"
  },
  "language_info": {
   "codemirror_mode": {
    "name": "ipython",
    "version": 3
   },
   "file_extension": ".py",
   "mimetype": "text/x-python",
   "name": "python",
   "nbconvert_exporter": "python",
   "pygments_lexer": "ipython3",
   "version": "3.13.1"
  }
 },
 "nbformat": 4,
 "nbformat_minor": 2
}
